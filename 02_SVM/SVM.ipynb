{
 "cells": [
  {
   "cell_type": "markdown",
   "id": "d20a68ab",
   "metadata": {},
   "source": [
    "# task1"
   ]
  },
  {
   "cell_type": "markdown",
   "id": "8a4c3cbd",
   "metadata": {},
   "source": [
    "## Creating dataset DS1.csv\n",
    "\n",
    "## A dataset containing 50 points, each with two features and a label, is generated here. The label is randomly chosen from the range [-1, 1], and the dataset is saved in CSV format."
   ]
  },
  {
   "cell_type": "code",
   "execution_count": 81,
   "id": "012d4ad4",
   "metadata": {},
   "outputs": [],
   "source": [
    "import numpy as np\n",
    "import pandas as pd\n",
    "\n",
    "X = np.random.rand(50, 2)\n",
    "y = np.random.choice([-1, 1], 50)\n",
    "\n",
    "data = np.hstack((X, y.reshape((-1, 1))))\n",
    "df = pd.DataFrame(data,  columns=['Feature 1', 'Feature 2', 'Label'])\n",
    "df.to_csv('DS1.csv', index=False, header=False)\n"
   ]
  },
  {
   "cell_type": "markdown",
   "id": "3cdf3f9e",
   "metadata": {},
   "source": [
    "## Loading dataset\n",
    "\n",
    "### First, use the pandas library in Python to load the dataset. The code is as follows:"
   ]
  },
  {
   "cell_type": "code",
   "execution_count": 82,
   "id": "40abda7d",
   "metadata": {},
   "outputs": [],
   "source": [
    "import pandas as pd\n",
    "\n",
    "data = pd.read_csv('DS1.csv', header=None)\n",
    "X = data.iloc[:, :-1]\n",
    "y = data.iloc[:, -1]"
   ]
  },
  {
   "cell_type": "markdown",
   "id": "e8aceb23",
   "metadata": {},
   "source": [
    "## Data preprocessing\n",
    "\n",
    "### For the SVM algorithm, it is necessary to standardize the data. The StandardScaler in the scikit-learn library can be used for standardization.\n",
    "\n",
    "### Here, the StandardScaler is used to center and scale the feature data so that the mean of each feature is 0 and the variance is 1.\n",
    "\n",
    "### The code is as follows:"
   ]
  },
  {
   "cell_type": "code",
   "execution_count": 83,
   "id": "b8aeb99b",
   "metadata": {},
   "outputs": [],
   "source": [
    "from sklearn.preprocessing import StandardScaler\n",
    "\n",
    "scaler = StandardScaler()\n",
    "X = scaler.fit_transform(X)\n"
   ]
  },
  {
   "cell_type": "markdown",
   "id": "c88fab01",
   "metadata": {},
   "source": [
    "## Splitting dataset to training and testing sets\n",
    "\n",
    "### The train_test_split function in the scikit-learn library is used to split the dataset into training and testing sets. The code is as follows:"
   ]
  },
  {
   "cell_type": "code",
   "execution_count": 84,
   "id": "ed04fa84",
   "metadata": {},
   "outputs": [],
   "source": [
    "from sklearn.model_selection import train_test_split\n",
    "\n",
    "X_train, X_test, y_train, y_test = train_test_split(X, y, test_size=0.3, random_state=0)\n"
   ]
  },
  {
   "cell_type": "markdown",
   "id": "b3d226c6",
   "metadata": {},
   "source": [
    "## Model training and prediction\n",
    "\n",
    "### Use the SVC model in the scikit-learn library for training and prediction.\n",
    "\n",
    "### Here, a SVM model with a linear kernel function (kernel='linear') is used for training, and the testing set is used for prediction.\n",
    "\n",
    "### The code is as follows:"
   ]
  },
  {
   "cell_type": "code",
   "execution_count": 85,
   "id": "f79ad07e",
   "metadata": {},
   "outputs": [],
   "source": [
    "from sklearn.svm import SVC\n",
    "\n",
    "svm = SVC(kernel='linear', C=1, gamma='auto').fit(X, y)\n",
    "\n",
    "y_pred = svm.predict(X_test)\n"
   ]
  },
  {
   "cell_type": "markdown",
   "id": "bef4e9e5",
   "metadata": {},
   "source": [
    "### Use the contourf function to plot the decision boundary and separation region, and use the scatter function to plot the data points."
   ]
  },
  {
   "cell_type": "code",
   "execution_count": 86,
   "id": "15a086e4",
   "metadata": {},
   "outputs": [
    {
     "data": {
      "image/png": "[encoded data removed]",
      "text/plain": [
       "<Figure size 432x288 with 1 Axes>"
      ]
     },
     "metadata": {
      "needs_background": "light"
     },
     "output_type": "display_data"
    }
   ],
   "source": [
    "import numpy as np\n",
    "import matplotlib.pyplot as plt\n",
    "\n",
    "x_min, x_max = X[:, 0].min() - 0.1, X[:, 0].max() + 0.1\n",
    "y_min, y_max = X[:, 1].min() - 0.1, X[:, 1].max() + 0.1\n",
    "xx, yy = np.meshgrid(np.arange(x_min, x_max, 0.01),\n",
    "                     np.arange(y_min, y_max, 0.01))\n",
    "Z = svm.predict(np.c_[xx.ravel(), yy.ravel()])\n",
    "Z = Z.reshape(xx.shape)\n",
    "plt.contourf(xx, yy, Z, alpha=0.4)\n",
    "plt.scatter(X[y == 1, 0], X[y == 1, 1], color='blue', label='Positive')\n",
    "plt.scatter(X[y == -1, 0], X[y == -1, 1], color='red', label='Negative')\n",
    "plt.legend()\n",
    "plt.xlabel('Feature 1')\n",
    "plt.ylabel('Feature 2')\n",
    "plt.title('Dataset with Decision Boundary')\n",
    "plt.show()"
   ]
  },
  {
   "cell_type": "markdown",
   "id": "6ade69d9",
   "metadata": {},
   "source": [
    "## Model evaluation\n",
    "\n",
    "### Here, the confusion matrix and classification report are outputted to evaluate metrics such as accuracy, recall, and F1 score of the model on the testing set.\n",
    "\n",
    "### The classification_report and confusion_matrix functions in the scikit-learn library are used to evaluate the performance of the model.\n",
    "\n",
    "### The code is as follows:"
   ]
  },
  {
   "cell_type": "code",
   "execution_count": 87,
   "id": "08c69fd9",
   "metadata": {},
   "outputs": [
    {
     "name": "stdout",
     "output_type": "stream",
     "text": [
      "Confusion Matrix:\n",
      "[[4 4]\n",
      " [2 5]]\n",
      "\n",
      "Classification Report:\n",
      "              precision    recall  f1-score   support\n",
      "\n",
      "        -1.0       0.67      0.50      0.57         8\n",
      "         1.0       0.56      0.71      0.63         7\n",
      "\n",
      "    accuracy                           0.60        15\n",
      "   macro avg       0.61      0.61      0.60        15\n",
      "weighted avg       0.61      0.60      0.60        15\n",
      "\n"
     ]
    }
   ],
   "source": [
    "from sklearn.metrics import classification_report, confusion_matrix\n",
    "\n",
    "print('Confusion Matrix:')\n",
    "print(confusion_matrix(y_test, y_pred))\n",
    "\n",
    "print('\\nClassification Report:')\n",
    "print(classification_report(y_test, y_pred, zero_division=1))\n"
   ]
  },
  {
   "cell_type": "markdown",
   "id": "b108b8de",
   "metadata": {},
   "source": [
    "## Change C to 0.5"
   ]
  },
  {
   "cell_type": "code",
   "execution_count": 88,
   "id": "bed70c94",
   "metadata": {},
   "outputs": [
    {
     "data": {
      "image/png": "[encoded data removed]",
      "text/plain": [
       "<Figure size 432x288 with 1 Axes>"
      ]
     },
     "metadata": {
      "needs_background": "light"
     },
     "output_type": "display_data"
    },
    {
     "name": "stdout",
     "output_type": "stream",
     "text": [
      "Confusion Matrix:\n",
      "[[4 4]\n",
      " [2 5]]\n",
      "\n",
      "Classification Report:\n",
      "              precision    recall  f1-score   support\n",
      "\n",
      "        -1.0       0.67      0.50      0.57         8\n",
      "         1.0       0.56      0.71      0.63         7\n",
      "\n",
      "    accuracy                           0.60        15\n",
      "   macro avg       0.61      0.61      0.60        15\n",
      "weighted avg       0.61      0.60      0.60        15\n",
      "\n"
     ]
    }
   ],
   "source": [
    "from sklearn.svm import SVC\n",
    "import numpy as np\n",
    "import matplotlib.pyplot as plt\n",
    "from sklearn.metrics import classification_report, confusion_matrix\n",
    "\n",
    "\n",
    "svm = SVC(kernel='linear', C=0.3, gamma='auto').fit(X, y)\n",
    "\n",
    "y_pred = svm.predict(X_test)\n",
    "\n",
    "\n",
    "x_min, x_max = X[:, 0].min() - 0.1, X[:, 0].max() + 0.1\n",
    "y_min, y_max = X[:, 1].min() - 0.1, X[:, 1].max() + 0.1\n",
    "xx, yy = np.meshgrid(np.arange(x_min, x_max, 0.01),\n",
    "                     np.arange(y_min, y_max, 0.01))\n",
    "Z = svm.predict(np.c_[xx.ravel(), yy.ravel()])\n",
    "Z = Z.reshape(xx.shape)\n",
    "plt.contourf(xx, yy, Z, alpha=0.4)\n",
    "plt.scatter(X[y == 1, 0], X[y == 1, 1], color='blue', label='Positive')\n",
    "plt.scatter(X[y == -1, 0], X[y == -1, 1], color='red', label='Negative')\n",
    "plt.legend()\n",
    "plt.xlabel('Feature 1')\n",
    "plt.ylabel('Feature 2')\n",
    "plt.title('Dataset with Decision Boundary')\n",
    "plt.show()\n",
    "\n",
    "print('Confusion Matrix:')\n",
    "print(confusion_matrix(y_test, y_pred))\n",
    "\n",
    "print('\\nClassification Report:')\n",
    "print(classification_report(y_test, y_pred, zero_division=1))"
   ]
  },
  {
   "cell_type": "markdown",
   "id": "5d60bfa7",
   "metadata": {},
   "source": [
    "### C is the regularization parameter in SVM, which controls the degree of penalty for misclassified samples. A larger C means a higher penalty for misclassification, and the model will be more fitted to the training data, but it may also lead to overfitting. A smaller C means a lower penalty for misclassification, and the model will focus more on general patterns, but it may cause underfitting.\n",
    "\n",
    "### In practice, it is usually necessary to experiment repeatedly with specific datasets to select an appropriate C value that achieves optimal model performance. If the C value is too small, the misclassification rate of the model on the training set will increase, which may indicate underfitting. If the C value is too large, overfitting may occur, leading to lower performance on the testing set."
   ]
  },
  {
   "cell_type": "markdown",
   "id": "49d021ff",
   "metadata": {},
   "source": [
    "# task2"
   ]
  },
  {
   "cell_type": "markdown",
   "id": "8b38dbac",
   "metadata": {},
   "source": [
    "### Use dataset DS2 and change the kernel function to RBF\n",
    "### To use the DS2 dataset and change the kernel function to RBF, modify the parameter when creating the SVC object as follows:"
   ]
  },
  {
   "cell_type": "code",
   "execution_count": 89,
   "id": "4e724cd0",
   "metadata": {},
   "outputs": [
    {
     "data": {
      "image/png": "[encoded data removed]",
      "text/plain": [
       "<Figure size 432x288 with 1 Axes>"
      ]
     },
     "metadata": {
      "needs_background": "light"
     },
     "output_type": "display_data"
    },
    {
     "name": "stdout",
     "output_type": "stream",
     "text": [
      "Confusion Matrix:\n",
      "[[43 13]\n",
      " [ 7 87]]\n",
      "\n",
      "Classification Report:\n",
      "              precision    recall  f1-score   support\n",
      "\n",
      "          -1       0.86      0.77      0.81        56\n",
      "           1       0.87      0.93      0.90        94\n",
      "\n",
      "    accuracy                           0.87       150\n",
      "   macro avg       0.86      0.85      0.85       150\n",
      "weighted avg       0.87      0.87      0.86       150\n",
      "\n"
     ]
    }
   ],
   "source": [
    "import pandas as pd\n",
    "import matplotlib.pyplot as plt\n",
    "import numpy as np\n",
    "from sklearn.svm import SVC\n",
    "from sklearn.model_selection import train_test_split\n",
    "from sklearn.preprocessing import StandardScaler\n",
    "from sklearn.metrics import classification_report, confusion_matrix\n",
    "\n",
    "\n",
    "data = pd.read_csv('DS2.csv', header=None)\n",
    "X = data.iloc[:, :-1]\n",
    "y = data.iloc[:, -1]\n",
    "\n",
    "\n",
    "scaler = StandardScaler()\n",
    "X = scaler.fit_transform(X)\n",
    "\n",
    "\n",
    "X_train, X_test, y_train, y_test = train_test_split(X, y, test_size=0.3, random_state=0)\n",
    "\n",
    "\n",
    "svm = SVC(kernel='rbf', C=0.5, gamma='auto').fit(X, y)\n",
    "\n",
    "y_pred = svm.predict(X_test)\n",
    "\n",
    "x_min, x_max = X[:, 0].min() - 0.1, X[:, 0].max() + 0.1\n",
    "y_min, y_max = X[:, 1].min() - 0.1, X[:, 1].max() + 0.1\n",
    "xx, yy = np.meshgrid(np.arange(x_min, x_max, 0.01),\n",
    "                     np.arange(y_min, y_max, 0.01))\n",
    "Z = svm.predict(np.c_[xx.ravel(), yy.ravel()])\n",
    "Z = Z.reshape(xx.shape)\n",
    "plt.contourf(xx, yy, Z, alpha=0.4)\n",
    "plt.scatter(X[y == 1, 0], X[y == 1, 1], color='blue', label='Positive')\n",
    "plt.scatter(X[y == -1, 0], X[y == -1, 1], color='red', label='Negative')\n",
    "plt.legend()\n",
    "plt.xlabel('Feature 1')\n",
    "plt.ylabel('Feature 2')\n",
    "plt.title('Dataset with Decision Boundary')\n",
    "plt.show()\n",
    "\n",
    "print('Confusion Matrix:')\n",
    "print(confusion_matrix(y_test, y_pred))\n",
    "\n",
    "print('\\nClassification Report:')\n",
    "print(classification_report(y_test, y_pred, zero_division=1))"
   ]
  },
  {
   "cell_type": "markdown",
   "id": "1aa44db9",
   "metadata": {},
   "source": [
    "### The RBF kernel maps input features to an infinite-dimensional space and is suitable for feature spaces with non-linear forms. The computation speed of the RBF kernel function is relatively slow, but it can handle various types of datasets.\n",
    "\n",
    "### Among them, the gamma parameter is used to adjust the width of the radial basis function. The larger the gamma, the smaller the effect range of the radial basis function between samples. If gamma is too small, the model may underfit. If gamma is too large, the model may overfit.\n",
    "\n",
    "### Therefore, in practice, it is necessary to experiment repeatedly with different values of gamma to select an appropriate parameter value that achieves optimal model performance."
   ]
  },
  {
   "cell_type": "markdown",
   "id": "18c20611",
   "metadata": {},
   "source": [
    "# task3"
   ]
  },
  {
   "cell_type": "markdown",
   "id": "a33438dc",
   "metadata": {},
   "source": [
    "### Using dataset DS3, selecting the RBF kernel function and tuning the parameters C and gamma."
   ]
  },
  {
   "cell_type": "code",
   "execution_count": 90,
   "id": "94a96416",
   "metadata": {},
   "outputs": [
    {
     "data": {
      "image/png": "[encoded data removed]",
      "text/plain": [
       "<Figure size 432x288 with 1 Axes>"
      ]
     },
     "metadata": {
      "needs_background": "light"
     },
     "output_type": "display_data"
    },
    {
     "name": "stdout",
     "output_type": "stream",
     "text": [
      "Confusion Matrix:\n",
      "[[34  1]\n",
      " [ 2 23]]\n",
      "\n",
      "Classification Report:\n",
      "              precision    recall  f1-score   support\n",
      "\n",
      "           0       0.94      0.97      0.96        35\n",
      "           1       0.96      0.92      0.94        25\n",
      "\n",
      "    accuracy                           0.95        60\n",
      "   macro avg       0.95      0.95      0.95        60\n",
      "weighted avg       0.95      0.95      0.95        60\n",
      "\n"
     ]
    }
   ],
   "source": [
    "import pandas as pd\n",
    "import matplotlib.pyplot as plt\n",
    "import numpy as np\n",
    "from sklearn.svm import SVC\n",
    "from sklearn.model_selection import train_test_split\n",
    "from sklearn.preprocessing import StandardScaler\n",
    "\n",
    "data = pd.read_csv('DS3.csv', header=None)\n",
    "X = data.iloc[:, :-1]\n",
    "y = data.iloc[:, -1]\n",
    "\n",
    "\n",
    "scaler = StandardScaler()\n",
    "X = scaler.fit_transform(X)\n",
    "\n",
    "\n",
    "X_train, X_test, y_train, y_test = train_test_split(X, y, test_size=0.3, random_state=0)\n",
    "\n",
    "svm = SVC(kernel='rbf', C=2, gamma=0.5).fit(X, y)\n",
    "\n",
    "y_pred = svm.predict(X_test)\n",
    "\n",
    "x_min, x_max = X[:, 0].min() - 0.1, X[:, 0].max() + 0.1\n",
    "y_min, y_max = X[:, 1].min() - 0.1, X[:, 1].max() + 0.1\n",
    "xx, yy = np.meshgrid(np.arange(x_min, x_max, 0.01),\n",
    "                     np.arange(y_min, y_max, 0.01))\n",
    "Z = svm.predict(np.c_[xx.ravel(), yy.ravel()])\n",
    "Z = Z.reshape(xx.shape)\n",
    "plt.contourf(xx, yy, Z, alpha=0.4)\n",
    "plt.scatter(X[y == 1, 0], X[y == 1, 1], color='blue', label='Positive')\n",
    "plt.scatter(X[y == -1, 0], X[y == -1, 1], color='red', label='Negative')\n",
    "plt.legend()\n",
    "plt.xlabel('Feature 1')\n",
    "plt.ylabel('Feature 2')\n",
    "plt.title('Dataset with Decision Boundary')\n",
    "plt.show()\n",
    "\n",
    "print('Confusion Matrix:')\n",
    "print(confusion_matrix(y_test, y_pred))\n",
    "\n",
    "print('\\nClassification Report:')\n",
    "print(classification_report(y_test, y_pred, zero_division=1))"
   ]
  },
  {
   "cell_type": "markdown",
   "id": "9d857714",
   "metadata": {},
   "source": [
    "### The RBF kernel function maps input features to an infinite-dimensional space and is suitable for feature spaces with a non-linear form. The RBF kernel function's computation speed is relatively slow but can handle various types of datasets.\n",
    "\n",
    "### C is the regularization parameter in SVM used to control the penalty degree of error samples. The larger the C value, the higher the penalty degree of misclassification. The model will fit the training data more, but it may also lead to overfitting problems. The smaller the C value, the lower the penalty degree of misclassification. The model will focus on more general patterns, but it may lead to underfitting problems.\n",
    "\n",
    "### The gamma parameter is used to adjust the width of the radial basis function. The larger the gamma, the smaller the effect range of the radial basis function between samples. If gamma is too small, the model may underfit. If gamma is too large, the model may overfit."
   ]
  }
 ],
 "metadata": {
  "kernelspec": {
   "display_name": "Python 3 (ipykernel)",
   "language": "python",
   "name": "python3"
  },
  "language_info": {
   "codemirror_mode": {
    "name": "ipython",
    "version": 3
   },
   "file_extension": ".py",
   "mimetype": "text/x-python",
   "name": "python",
   "nbconvert_exporter": "python",
   "pygments_lexer": "ipython3",
   "version": "3.9.12"
  }
 },
 "nbformat": 4,
 "nbformat_minor": 5
}
